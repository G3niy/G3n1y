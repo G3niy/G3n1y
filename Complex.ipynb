{
  "nbformat": 4,
  "nbformat_minor": 0,
  "metadata": {
    "colab": {
      "provenance": [],
      "authorship_tag": "ABX9TyNo1zVEGlcmhfrG6WPqp1Ed",
      "include_colab_link": true
    },
    "kernelspec": {
      "name": "python3",
      "display_name": "Python 3"
    },
    "language_info": {
      "name": "python"
    }
  },
  "cells": [
    {
      "cell_type": "markdown",
      "metadata": {
        "id": "view-in-github",
        "colab_type": "text"
      },
      "source": [
        "<a href=\"https://colab.research.google.com/github/G3niy/Math_Alg_reposit/blob/main/Complex.ipynb\" target=\"_parent\"><img src=\"https://colab.research.google.com/assets/colab-badge.svg\" alt=\"Open In Colab\"/></a>"
      ]
    },
    {
      "cell_type": "code",
      "execution_count": 4,
      "metadata": {
        "id": "cvtdwwWnjn9y"
      },
      "outputs": [],
      "source": [
        "from IPython.display import display, Math\n",
        "from math import *\n",
        "\n",
        "\n",
        "class Complex:\n",
        "  def __init__(self, x, y):\n",
        "    self.I = \"i\"\n",
        "    self.x = x\n",
        "    self.y = y\n",
        "    self.show()\n",
        "  def show(self):\n",
        "    out = f\"{self.x} + {self.y}{self.I}\" \n",
        "    display(Math(out))   \n",
        "  def __add__(self, summ):# comp = (x+x)+(y+y)i\n",
        "    x = self.x + summ.x\n",
        "    y = self.y + summ.y\n",
        "    return Complex(x, y)\n",
        "  def __sub__(self,sub): # comp = (x-x) + (y+y)i\n",
        "    x = self.x-sub.x\n",
        "    y = self.y-sub.y\n",
        "    return Complex(x, y)\n",
        "  def __mul__(self, mult): # comp = (x1*x2-y1*y2) + (x1*y2+y1*x2)i\n",
        "    x = self.x*mult.x-self.y*mult.y\n",
        "    y = self.x*mult.y + self.y*mult.x\n",
        "    return Complex(x, y)\n",
        "  def __div__(self, divine): # comp = ((x1*x2+y1*y2)/x2^2+x1^2)+((y1*x2-x1*y2)/x2^2+x1^2)i\n",
        "    x = (self.x*divine.x + self.y*divine.y) / divine.x**2+self.x**2\n",
        "    y = (self.y*divine.x - self.x*divine.y) / divine.x**2+self.x**2\n",
        "    return Complex(x,y)\n",
        "  def arg(self):\n",
        "    if self.y>0:\n",
        "      return atan(self.x/self.y)\n",
        "    elif self.y<0 and self.x >=0:\n",
        "      return pi+atan(self.x/self.y)\n",
        "    elif self.y<0 and self.x < 0:\n",
        "      return pi+atan(self.x/self.y)\n",
        "    elif self.y == 0 and self.x > 0:\n",
        "      return pi/2\n",
        "    else:\n",
        "      return pi/2\n",
        "  def __pow__(self, pow):\n",
        "    x = self.sqrt(self.x**2 + self.y**2)**pow*sin(pow*self.arg())\n",
        "    y = self.sqrt(self.x**2 + self.y**2)**pow*cos(pow*self.arg())\n",
        "    return Complex(x,y)"
      ]
    },
    {
      "cell_type": "code",
      "source": [
        "comp1 = Complex(3, 4)\n",
        "comp2 = Complex(4, 3)\n",
        "comp1.__add__(comp2)\n",
        "comp1.__mul__(comp2)\n",
        "comp1.__div__(comp2)"
      ],
      "metadata": {
        "colab": {
          "base_uri": "https://localhost:8080/",
          "height": 144
        },
        "id": "4GTLK8wwnkLY",
        "outputId": "eb902014-f541-4b60-fdb3-9546e6e1472d"
      },
      "execution_count": 10,
      "outputs": [
        {
          "output_type": "display_data",
          "data": {
            "text/plain": [
              "<IPython.core.display.Math object>"
            ],
            "text/latex": "$\\displaystyle 3 + 4i$"
          },
          "metadata": {}
        },
        {
          "output_type": "display_data",
          "data": {
            "text/plain": [
              "<IPython.core.display.Math object>"
            ],
            "text/latex": "$\\displaystyle 4 + 3i$"
          },
          "metadata": {}
        },
        {
          "output_type": "display_data",
          "data": {
            "text/plain": [
              "<IPython.core.display.Math object>"
            ],
            "text/latex": "$\\displaystyle 7 + 7i$"
          },
          "metadata": {}
        },
        {
          "output_type": "display_data",
          "data": {
            "text/plain": [
              "<IPython.core.display.Math object>"
            ],
            "text/latex": "$\\displaystyle 0 + 25i$"
          },
          "metadata": {}
        },
        {
          "output_type": "display_data",
          "data": {
            "text/plain": [
              "<IPython.core.display.Math object>"
            ],
            "text/latex": "$\\displaystyle 10.5 + 9.4375i$"
          },
          "metadata": {}
        },
        {
          "output_type": "execute_result",
          "data": {
            "text/plain": [
              "<__main__.Complex at 0x7f70b5078ed0>"
            ]
          },
          "metadata": {},
          "execution_count": 10
        }
      ]
    }
  ]
}
{
  "cells": [
    {
      "cell_type": "markdown",
      "metadata": {
        "id": "view-in-github",
        "colab_type": "text"
      },
      "source": [
        "<a href=\"https://colab.research.google.com/github/G3niy/Math_Alg_reposit/blob/main/seminar2.ipynb\" target=\"_parent\"><img src=\"https://colab.research.google.com/assets/colab-badge.svg\" alt=\"Open In Colab\"/></a>"
      ]
    },
    {
      "cell_type": "code",
      "source": [
        "import math\n",
        "from IPython.display import display, Math\n",
        "class Rational:\n",
        "    def __init__(self, n, m = 1):\n",
        "        self.n = n\n",
        "        self.m = m\n",
        "        self.normalize()\n",
        "    def normalize(self):\n",
        "        if self.n == 0: \n",
        "            self.m = 1\n",
        "            return\n",
        "        if self.m < 0:\n",
        "            self.n *= -1\n",
        "            self.m *= -1\n",
        "        gcd = get_gcd(abs(self.n), self.m)\n",
        "        self.n //= gcd\n",
        "        self.m //= gcd\n",
        "    def __str__(self):\n",
        "      self.c = self.n // self.m\n",
        "      if self.c != 0:\n",
        "          return f\"{self.c} {self.n % self.m}/{self.m}\"\n",
        "      else:\n",
        "          return f\"{self.n}/{self.m}\"\n",
        "    def show(self):\n",
        "        if self.m == 1:\n",
        "            out = f\"{self.n}\"\n",
        "        elif self.n > 0:\n",
        "            out = f\"\\\\dfrac{{{self.n}}}{{{self.m}}}\"\n",
        "        elif self.n > self.m & self.n > 0:\n",
        "            out = f\"\\\\dfrac{{{self.n // self.m}}}{{{self.n % self.m}}}/{{{self.m}}}\"\n",
        "        else:\n",
        "            out = f\"-\\\\dfrac{{{-self.n}}}{{{self.m}}}\"\n",
        "        display(Math(out))\n",
        "    def __eq__(self, q):\n",
        "        return self.n == q.n and self.m == q.m\n",
        "    def __add__(self, q):\n",
        "        n = self.n * q.m + self.m * q.n\n",
        "        m = self.m * q.m\n",
        "        return Rational(n, m)\n",
        "    def __truediv__(self, q):\n",
        "        if q.n == 0:\n",
        "            raise ZeroDivisionError(\"division rational number by zero\")\n",
        "        n = self.n * q.m\n",
        "        m = self.m * q.n\n",
        "        return Rational(n, m)\n",
        "    def __float__(self):\n",
        "        return self.n / self.m\n",
        "    \n",
        "        \n",
        "    \n",
        "\n",
        "\n",
        "def get_gcd(n, m):\n",
        "        while m > 0:\n",
        "          n, m = m, n % m\n",
        "        return n\n",
        "\n",
        "\n",
        "print(Rational(6, 5))\n",
        "  \n"
      ],
      "metadata": {
        "id": "wgQGDIsaObB-",
        "outputId": "ae477b36-fd74-4e42-d5f3-f7315ae1a472",
        "colab": {
          "base_uri": "https://localhost:8080/"
        }
      },
      "execution_count": 1,
      "outputs": [
        {
          "output_type": "stream",
          "name": "stdout",
          "text": [
            "1 1/5\n"
          ]
        }
      ]
    },
    {
      "cell_type": "code",
      "source": [],
      "metadata": {
        "id": "FVn9nQGZPZ9F"
      },
      "execution_count": null,
      "outputs": []
    }
  ],
  "metadata": {
    "colab": {
      "collapsed_sections": [],
      "name": "Добро пожаловать в Colaboratory!",
      "toc_visible": true,
      "provenance": [],
      "include_colab_link": true
    },
    "kernelspec": {
      "display_name": "Python 3",
      "name": "python3"
    }
  },
  "nbformat": 4,
  "nbformat_minor": 0
}
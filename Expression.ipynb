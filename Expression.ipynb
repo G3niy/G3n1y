{
  "nbformat": 4,
  "nbformat_minor": 0,
  "metadata": {
    "colab": {
      "provenance": [],
      "authorship_tag": "ABX9TyNIHopCs1na4o+jV6LJqQqT",
      "include_colab_link": true
    },
    "kernelspec": {
      "name": "python3",
      "display_name": "Python 3"
    },
    "language_info": {
      "name": "python"
    }
  },
  "cells": [
    {
      "cell_type": "markdown",
      "metadata": {
        "id": "view-in-github",
        "colab_type": "text"
      },
      "source": [
        "<a href=\"https://colab.research.google.com/github/G3niy/Math_Alg_reposit/blob/main/Expression.ipynb\" target=\"_parent\"><img src=\"https://colab.research.google.com/assets/colab-badge.svg\" alt=\"Open In Colab\"/></a>"
      ]
    },
    {
      "cell_type": "code",
      "execution_count": 2,
      "metadata": {
        "id": "nAbXGbufrjoa"
      },
      "outputs": [],
      "source": [
        "from IPython.display import display, Math\n",
        "import numpy as np\n",
        "import matplotlib\n",
        "import matplotlib.pyplot as plt\n",
        "\n",
        "def add(x, y): return ['+', x, y]\n",
        "def sub(x, y): return ['-', x, y]\n",
        "def mul(x, y): return ['*', x, y]\n",
        "def div(x, y): return ['/', x, y]\n",
        "def power(x, y): return ['^', x, y]\n",
        "def negative(x): return ['~', x]\n",
        "def sin_(x): return ['sin', x]\n",
        "def cos_(x): return ['cos', x]\n",
        "def sqrt_(x): return ['sqrt', x]\n",
        "\n",
        "def fix(x):\n",
        "  if isinstance(x, Expression):\n",
        "    return x\n",
        "  return Expression(x)\n",
        "\n",
        "class Expression:\n",
        "  def __init__(self, x):\n",
        "    self.T = x\n",
        "  def __add__(self, x):\n",
        "    return Expression(add(self.T, fix(x).T))\n",
        "  def __radd__(self, x):\n",
        "    return Expression(add(fix(x).T, self.T))\n",
        "  def __sub__(self, x):\n",
        "    return Expression(sub(self.T, fix(x).T))\n",
        "  def __rsub__(self, x):\n",
        "    return Expression(sub(fix(x).T, self.T))\n",
        "  def __mul__(self, x):\n",
        "    return Expression(mul(self.T, fix(x).T))\n",
        "  def __rmul__(self, x):\n",
        "    return Expression(mul(fix(x).T, self.T))\n",
        "  def __truediv__(self, x):\n",
        "    return Expression(div(self.T, fix(x).T))\n",
        "  def __rtruediv__(self, x):\n",
        "    return Expression(div(fix(x).T, self.T))\n",
        "  def __pow__(self, x):\n",
        "    return Expression(power(self.T, fix(x).T))\n",
        "  def __rpow__(self, x):\n",
        "    return Expression(power(fix(x).T, self.T))\n",
        "  def __neg__(self):\n",
        "    return Expression(negative(self.T))  \n",
        "  \n",
        "  def sin(x):\n",
        "    return Expression(sin_(fix(x).T))\n",
        "  def cos(x):\n",
        "    return Expression(cos_(fix(x).T))\n",
        "  def sqrt(x):\n",
        "    return Expression(sqrt_(fix(x).T))\n",
        "\n",
        "  def show(x):\n",
        "    display(Math(latex(x)))\n",
        "\n",
        "def enclose(x):\n",
        "  return f'\\\\left( {x} \\\\right)'\n",
        "\n",
        "def latex(x):\n",
        "  if isinstance(x, Expression):\n",
        "    return latex(x.T)\n",
        "\n",
        "  if isinstance(x, (int, str)):\n",
        "    return str(x)\n",
        "\n",
        "  op = x[0]\n",
        "  if op in '+-*/^':\n",
        "    l, r = latex(x[1]), latex(x[2])\n",
        "    if op == '+':\n",
        "      return f'{l} + {r}'\n",
        "    if op == '-':\n",
        "      return f'{l} - {r}'\n",
        "    if op == '*':\n",
        "      return f'{l} \\\\cdot {r}'\n",
        "    if op == '/':\n",
        "      return f'\\\\dfrac{{{l}}}{{{r}}}'\n",
        "    if op == '^':\n",
        "      if isinstance(x[1], list):\n",
        "        l = enclose(l)\n",
        "      return f'{{{l}}}^{{{r}}}'\n",
        "  else: \n",
        "    a = latex(x[1])\n",
        "    if op == '~':\n",
        "      return f'- {a}'\n",
        "    if op == 'sin':\n",
        "      return f'\\\\sin {a}'\n",
        "    if op == 'cos':\n",
        "      return f'\\\\cos {a}'\n",
        "    if op == 'sqrt':\n",
        "      return f'\\\\sqrt{{{a}}}'\n",
        "\n",
        "  \n",
        "def symbols(s):\n",
        "    S = s.split()\n",
        "    if len(S) == 1:\n",
        "      return Expression(s)\n",
        "    return (Expression(i) for i in S)\n",
        "def evalf(x, arg = {}):\n",
        "  if isinstance(x, Expression):\n",
        "    if isinstance(arg, dict):\n",
        "      arg = {i.T: arg[i] for i in arg}\n",
        "    else:\n",
        "      arg = {'$': arg}\n",
        "    return evalf(x.T, arg)\n",
        "\n",
        "  if isinstance(x, int):\n",
        "    return x\n",
        "\n",
        "  if isinstance(x, str):\n",
        "    if x in arg:\n",
        "      return arg[x]\n",
        "    return arg['$']\n",
        "\n",
        "  op = x[0]\n",
        "  if op in '+-*/^':\n",
        "    l, r = evalf(x[1], arg), evalf(x[2], arg)\n",
        "    if op == '+':\n",
        "      return l + r\n",
        "    if op == '-':\n",
        "      return l - r\n",
        "    if op == '*':\n",
        "      return l * r\n",
        "    if op == '/':\n",
        "      return l / r\n",
        "    if op == '^':\n",
        "      return l ** r\n",
        "  else:\n",
        "    a = evalf(x[1], arg)\n",
        "    if op == '~':\n",
        "      return - a\n",
        "    if op == 'sin':\n",
        "      return np.sin(a)\n",
        "    if op == 'cos':\n",
        "      return np.cos(a)\n",
        "    if op == 'sqrt':\n",
        "      return np.sqrt(a)\n",
        "  return None\n",
        "\n",
        "  def plot(y, x):\n",
        "    X = np.linspace(x[1], x[2], 1000)\n",
        "    Y = evalf(y, {x[0]: X})\n",
        "    plt.plot(X, Y)"
      ]
    },
    {
      "cell_type": "code",
      "source": [
        "z = Expression(1)/2 + 3\n",
        "Expression.show(z)\n",
        "x, y, s = symbols('x y s')\n",
        "Expression.show(x + y + s)\n",
        "z.T"
      ],
      "metadata": {
        "colab": {
          "base_uri": "https://localhost:8080/",
          "height": 90
        },
        "id": "CRc1knAZuDDs",
        "outputId": "ea21c08f-ba12-4c7e-93b7-135bd73d9871"
      },
      "execution_count": 11,
      "outputs": [
        {
          "output_type": "display_data",
          "data": {
            "text/plain": [
              "<IPython.core.display.Math object>"
            ],
            "text/latex": "$\\displaystyle \\dfrac{1}{2} + 3$"
          },
          "metadata": {}
        },
        {
          "output_type": "display_data",
          "data": {
            "text/plain": [
              "<IPython.core.display.Math object>"
            ],
            "text/latex": "$\\displaystyle x + y + s$"
          },
          "metadata": {}
        },
        {
          "output_type": "execute_result",
          "data": {
            "text/plain": [
              "['+', ['/', 1, 2], 3]"
            ]
          },
          "metadata": {},
          "execution_count": 11
        }
      ]
    }
  ]
}